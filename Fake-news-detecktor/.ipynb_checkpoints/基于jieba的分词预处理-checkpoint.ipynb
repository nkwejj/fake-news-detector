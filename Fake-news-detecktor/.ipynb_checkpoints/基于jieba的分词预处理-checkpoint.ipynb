{
 "cells": [
  {
   "cell_type": "code",
   "execution_count": 8,
   "id": "2a94761c",
   "metadata": {},
   "outputs": [],
   "source": [
    "import csv\n",
    "import random\n",
    "import numpy as np\n",
    "import jieba\n",
    "import jieba.analyse"
   ]
  },
  {
   "cell_type": "markdown",
   "id": "bc3cf931",
   "metadata": {},
   "source": [
    "### 一.处理训练集"
   ]
  },
  {
   "cell_type": "markdown",
   "id": "34e0e62e",
   "metadata": {},
   "source": [
    "#### 1.打开训练集文件"
   ]
  },
  {
   "cell_type": "code",
   "execution_count": 9,
   "id": "a894ad9e",
   "metadata": {},
   "outputs": [],
   "source": [
    "# 打开训练集文件\n",
    "with open(r\"data\\train.news.csv\", 'r', encoding='utf-8') as f:\n",
    "    data=list(csv.reader(f))\n",
    "    f.close()\n",
    "# 去除第一行数据\n",
    "data = [key for index, key in enumerate(data) if index != 0]\n",
    "\n",
    "# data2存储未分词的data中[OfficialAccountName,Title,Report_Content]数据\n",
    "rows = len(data)\n",
    "data2 = []\n",
    "label = []\n",
    "for i in range(rows):\n",
    "    # tmp = str(data[i][0]+data[i][1]+data[i][4])\n",
    "    tmp = str(data[i][0] + data[i][1])\n",
    "    label.append(data[i][5])\n",
    "    data2.append(tmp)"
   ]
  },
  {
   "cell_type": "markdown",
   "id": "9ce3d8e2",
   "metadata": {},
   "source": [
    "#### 2.使用jieba进行分词"
   ]
  },
  {
   "cell_type": "code",
   "execution_count": 10,
   "id": "63864646",
   "metadata": {},
   "outputs": [],
   "source": [
    "# data3存储去除停用词后的data2数据\n",
    "# 内部数据形如'环球 人物 中国 反腐 风刮到 阿根廷 美到 瘫痪 女 总统 本子 摊上 大事 内容 不符'\n",
    "data3 = []\n",
    "stwf = open(r'stopwords\\stopwords.txt', 'r', encoding=\"utf-8\")\n",
    "stopwords = [line.strip() for line in stwf.readlines()]\n",
    "# print(stopwords)\n",
    "for i in range(rows):\n",
    "    seg_list = list(jieba.cut(data2[i], cut_all=False))\n",
    "    tmplist = []\n",
    "    for j in seg_list:\n",
    "        if j not in stopwords:\n",
    "            tmplist.append(j)\n",
    "    result = ' '.join(tmplist)\n",
    "    data3.append(result)"
   ]
  },
  {
   "cell_type": "code",
   "execution_count": 19,
   "id": "9bda59e3",
   "metadata": {},
   "outputs": [
    {
     "name": "stdout",
     "output_type": "stream",
     "text": [
      "环球 人物 中国 反腐 风刮到 阿根廷 美到 瘫痪 女 总统 本子 摊上 大事\n"
     ]
    }
   ],
   "source": [
    "## 查看分词后的数据\n",
    "print(data3[0])"
   ]
  },
  {
   "cell_type": "markdown",
   "id": "50342358",
   "metadata": {},
   "source": [
    "#### 3.实验前准备(调配参数，观察训练效果，实际使用时，不进行划分)"
   ]
  },
  {
   "cell_type": "markdown",
   "id": "9945f7e8",
   "metadata": {},
   "source": [
    "##### a.划分训练集和验证集"
   ]
  },
  {
   "cell_type": "code",
   "execution_count": 11,
   "id": "a5b04643",
   "metadata": {},
   "outputs": [],
   "source": [
    "# 将data3数据按照3:1的比例写入 train.csv 和 val.csv\n",
    "# 写入的内容\n",
    "label1 = []\n",
    "label2 = []\n",
    "dataa = []\n",
    "datab = []\n",
    "random.seed(116)\n",
    "for i in range(rows):\n",
    "    rd = random.random()\n",
    "    if rd > 0.8:                    # 按照4:1比例划分为训练集和验证集\n",
    "        label2.append(label[i])\n",
    "        datab.append(data3[i])\n",
    "    else:\n",
    "        label1.append(label[i])\n",
    "        dataa.append(data3[i])"
   ]
  },
  {
   "cell_type": "markdown",
   "id": "681aa754",
   "metadata": {},
   "source": [
    "##### b.写入新的csv表格"
   ]
  },
  {
   "cell_type": "code",
   "execution_count": 12,
   "id": "810f9e9b",
   "metadata": {},
   "outputs": [],
   "source": [
    "content1 = zip(label1,dataa)\n",
    "content2 = zip(label2,datab)\n",
    "\n",
    "# 表头\n",
    "header = ['labelcode', 'cutword']\n",
    "\n",
    "with open('data-derived/train.csv', 'w', encoding='utf-8') as file_obj:\n",
    "    # 1:创建writer对象\n",
    "    writer = csv.writer(file_obj)\n",
    "    # 2:写表头\n",
    "    writer.writerow(header)\n",
    "    # 3:遍历列表，将每一行的数据写入csv\n",
    "    for p in content1:\n",
    "        writer.writerow(p)\n",
    "\n",
    "with open('data-derived/val.csv', 'w', encoding='utf-8') as file_obj:\n",
    "    # 1:创建writer对象\n",
    "    writer = csv.writer(file_obj)\n",
    "    # 2:写表头\n",
    "    writer.writerow(header)\n",
    "    # 3:遍历列表，将每一行的数据写入csv\n",
    "    for p in content2:\n",
    "        writer.writerow(p)"
   ]
  },
  {
   "cell_type": "markdown",
   "id": "786a8d4c",
   "metadata": {},
   "source": [
    "##### c.去除csv中的空行"
   ]
  },
  {
   "cell_type": "code",
   "execution_count": 13,
   "id": "28335a51",
   "metadata": {},
   "outputs": [
    {
     "name": "stdout",
     "output_type": "stream",
     "text": [
      "train.csv has been written successfully!\n",
      "val.csv has been written successfully!\n"
     ]
    }
   ],
   "source": [
    "# 去除空行\n",
    "with open('data-derived/train.csv','rt',encoding='utf-8')as fin: #读有空行的csv文件，舍弃空行\n",
    "  lines=''\n",
    "  for line in fin:\n",
    "    if line!='\\n':\n",
    "      lines+=line\n",
    "\n",
    "with open('data-derived/train.csv','wt',encoding='utf-8')as fout: #再次文本方式写入，不含空行\n",
    "  fout.write(lines)\n",
    "\n",
    "print(\"train.csv has been written successfully!\")\n",
    "\n",
    "with open('data-derived/val.csv','rt',encoding='utf-8')as fin: #读有空行的csv文件，舍弃空行\n",
    "  lines=''\n",
    "  for line in fin:\n",
    "    if line!='\\n':\n",
    "      lines+=line\n",
    "\n",
    "with open('data-derived/val.csv','wt',encoding='utf-8')as fout: #再次文本方式写入，不含空行\n",
    "  fout.write(lines)\n",
    "\n",
    "print(\"val.csv has been written successfully!\")"
   ]
  },
  {
   "cell_type": "markdown",
   "id": "984906c8",
   "metadata": {},
   "source": [
    "#### 4.正式实验所用数据为train.news.csv的所有数据，不进行训练集和验证集的划分"
   ]
  },
  {
   "cell_type": "code",
   "execution_count": 20,
   "id": "ee2e996e",
   "metadata": {},
   "outputs": [
    {
     "name": "stdout",
     "output_type": "stream",
     "text": [
      "['环球人物', '中国反腐风刮到阿根廷，这个美到让人瘫痪的女总统，因为8个本子摊上大事了', 'http://mp.weixin.qq.com/s?__biz=MTAzNDI4MDc2MQ==&mid=2651677896&idx=1&sn=87f17336a5aad5eacf12dc1edfc1e7de&chksm=0e63ec9e39146588ba8187a5a45d7ae1aa9b4f4c47c06f9b5f23250937a214f5c9961a838691#rd', 'http://mmbiz.qpic.cn/mmbiz_jpg/hpcO6kWnPm6cX3MhPyCmgCMpvJ175oDIIQQ9I3wRkRvTnvuOBwz5ZzbZGpYyyyGun4BoAeXrLL9J9RLiaxkibxng/0?wx_fmt=jpeg', '内容不符', '0']\n",
      "train_.csv has been written successfully!\n"
     ]
    }
   ],
   "source": [
    "# 不划成两份\n",
    "with open(r\"data\\train.news.csv\", 'r', encoding='utf-8') as f:\n",
    "    data_=list(csv.reader(f))\n",
    "    f.close()\n",
    "\n",
    "data_ = [key for index, key in enumerate(data_) if index != 0]\n",
    "rows_ = len(data_)\n",
    "data2_ = []\n",
    "label_ = []\n",
    "for i in range(rows_):\n",
    "    # tmp = str(data_[i][0]+data_[i][1]+data_[i][4])\n",
    "    tmp = str(data_[i][0] + data_[i][1])\n",
    "    label_.append(data_[i][5])\n",
    "    data2_.append(tmp)\n",
    "\n",
    "data3_ = []\n",
    "\n",
    "for i in range(trows):\n",
    "    seg_list = list(jieba.cut(data2_[i], cut_all=False))\n",
    "    tmplist = []\n",
    "    for j in seg_list:\n",
    "        if j not in stopwords:\n",
    "            tmplist.append(j)\n",
    "    result = ' '.join(tmplist)\n",
    "    data3_.append(result)\n",
    "\n",
    "content_ = zip(label_,data3_)\n",
    "\n",
    "with open('data-derived/train_.csv', 'w', encoding='utf-8') as file_obj:\n",
    "    # 1:创建writer对象\n",
    "    writer = csv.writer(file_obj)\n",
    "    # 2:写表头\n",
    "    writer.writerow(header)\n",
    "    # 3:遍历列表，将每一行的数据写入csv\n",
    "    for p in tcontent:\n",
    "        writer.writerow(p)\n",
    "\n",
    "with open('data-derived/train_.csv','rt',encoding='utf-8')as fin: #读有空行的csv文件，舍弃空行\n",
    "  lines=''\n",
    "  for line in fin:\n",
    "    if line!='\\n':\n",
    "      lines+=line\n",
    "\n",
    "with open('data-derived/train_.csv','wt',encoding='utf-8')as fout: #再次文本方式写入，不含空行\n",
    "  fout.write(lines)\n",
    "\n",
    "print(\"train_.csv has been written successfully!\")"
   ]
  },
  {
   "cell_type": "markdown",
   "id": "86eaa321",
   "metadata": {},
   "source": [
    "### 二.对测试集进行相同操作"
   ]
  },
  {
   "cell_type": "code",
   "execution_count": 18,
   "id": "af7a2e46",
   "metadata": {},
   "outputs": [
    {
     "name": "stdout",
     "output_type": "stream",
     "text": [
      "test.csv has been written successfully!\n"
     ]
    }
   ],
   "source": [
    "# 对测试集采用相同操作，但不划成两份\n",
    "with open(r\"data\\test.news.csv\", 'r', encoding='utf-8') as f:\n",
    "    tdata=list(csv.reader(f))\n",
    "    f.close()\n",
    "\n",
    "tdata = [key for index, key in enumerate(tdata) if index != 0]\n",
    "\n",
    "trows = len(tdata)\n",
    "tdata2 = []\n",
    "tlabel = []\n",
    "for i in range(trows):\n",
    "    # tmp = str(tdata[i][0]+tdata[i][1]+tdata[i][4])\n",
    "    tmp = str(tdata[i][0] + tdata[i][1])\n",
    "    tlabel.append(tdata[i][5])\n",
    "    tdata2.append(tmp)\n",
    "\n",
    "tdata3 = []\n",
    "\n",
    "for i in range(trows):\n",
    "    seg_list = list(jieba.cut(tdata2[i], cut_all=False))\n",
    "    tmplist = []\n",
    "    for j in seg_list:\n",
    "        if j not in stopwords:\n",
    "            tmplist.append(j)\n",
    "    result = ' '.join(tmplist)\n",
    "    tdata3.append(result)\n",
    "\n",
    "tcontent = zip(tlabel,tdata3)\n",
    "\n",
    "with open('data-derived/test.csv', 'w', encoding='utf-8') as file_obj:\n",
    "    # 1:创建writer对象\n",
    "    writer = csv.writer(file_obj)\n",
    "    # 2:写表头\n",
    "    writer.writerow(header)\n",
    "    # 3:遍历列表，将每一行的数据写入csv\n",
    "    for p in tcontent:\n",
    "        writer.writerow(p)\n",
    "\n",
    "with open('data-derived/test.csv','rt',encoding='utf-8')as fin: #读有空行的csv文件，舍弃空行\n",
    "  lines=''\n",
    "  for line in fin:\n",
    "    if line!='\\n':\n",
    "      lines+=line\n",
    "\n",
    "with open('data-derived/test.csv','wt',encoding='utf-8')as fout: #再次文本方式写入，不含空行\n",
    "  fout.write(lines)\n",
    "\n",
    "print(\"test.csv has been written successfully!\")"
   ]
  },
  {
   "cell_type": "code",
   "execution_count": null,
   "id": "025eb6dc",
   "metadata": {},
   "outputs": [],
   "source": []
  }
 ],
 "metadata": {
  "kernelspec": {
   "display_name": "pytorch",
   "language": "python",
   "name": "pytorch"
  },
  "language_info": {
   "codemirror_mode": {
    "name": "ipython",
    "version": 3
   },
   "file_extension": ".py",
   "mimetype": "text/x-python",
   "name": "python",
   "nbconvert_exporter": "python",
   "pygments_lexer": "ipython3",
   "version": "3.9.13"
  }
 },
 "nbformat": 4,
 "nbformat_minor": 5
}
